{
 "cells": [
  {
   "cell_type": "markdown",
   "metadata": {},
   "source": [
    "# INTRODUCTION"
   ]
  },
  {
   "cell_type": "code",
   "execution_count": 1,
   "metadata": {},
   "outputs": [],
   "source": [
    "# Use pandas to automate data migration and report creation"
   ]
  },
  {
   "cell_type": "code",
   "execution_count": 2,
   "metadata": {},
   "outputs": [],
   "source": [
    "# You work for a company that has offices in different cities across the us\n",
    "# they have sales data for 1 10 year period\n",
    "# and need you to do the following\n",
    "\n",
    "# 1.\tCreate heatmaps\n",
    "#     a.\tYear by region\n",
    "#     b.\tYear by property\n",
    "#     c.\tYear by month\n",
    "#     d.\tCity by year\n",
    "# 2.\tCreate graphs with a row for each year and a column for each region\n",
    "#     a.\tProfit/loss\n",
    "#     b.\tROI by quarter\n",
    "#     c.\tROI by month\n",
    "# 3.\tSave records to json file by year\n",
    "#     a.\tGroup by regial manager"
   ]
  },
  {
   "cell_type": "code",
   "execution_count": 3,
   "metadata": {},
   "outputs": [],
   "source": [
    "# 1.\tMain skills used\n",
    "#     a.\tUse os module to navigate folder\n",
    "#     b.\tUse merge function to join tables(dataframe)\n",
    "#     c.\tUse XlsxWriter to save tables and charts to a file\n",
    "#     d.\tUse json library to write to json"
   ]
  },
  {
   "cell_type": "markdown",
   "metadata": {},
   "source": [
    "# PART ONE\n",
    "## IMPORT STATEMENTS AND READING IN MULTIPLE FILES"
   ]
  },
  {
   "cell_type": "code",
   "execution_count": 4,
   "metadata": {},
   "outputs": [],
   "source": [
    "# write import statement\n",
    "import pandas as pd # manipulate data in tables\n",
    "import datetime # get current datetime\n",
    "import os # navigate into folders\n",
    "import json # export table to json\n",
    "import seaborn as sns # convert table into heat map\n",
    "import calendar # convert month number into month name\n",
    "\n",
    "start=datetime.datetime.now()"
   ]
  },
  {
   "cell_type": "code",
   "execution_count": 5,
   "metadata": {},
   "outputs": [],
   "source": [
    "# declare base folder path\n",
    "BasePath=os.getcwd()\n",
    "\n",
    "# declare function to create new output folders\n",
    "def Dir(name):\n",
    "    path=f\"{BasePath}\\{name}\"\n",
    "    os.makedirs(f\"{BasePath}\\{name}\", exist_ok=True)\n",
    "    return path"
   ]
  },
  {
   "cell_type": "code",
   "execution_count": 6,
   "metadata": {},
   "outputs": [],
   "source": [
    "# define function to concat all specified files types\n",
    "# declare function name with arguments\n",
    "def GetFiles(path,ext):\n",
    "    # change directory into specified path\n",
    "    os.chdir(f\"{BasePath}\\{path}\")\n",
    "    \n",
    "    # for each file in currend directory\n",
    "    # get file extension if it == ext\n",
    "    # read in each file into a dataframe\n",
    "    # concatenate all dataframes into one dataframe\n",
    "    df=pd.concat([pd.read_csv(file) for file in os.listdir() if os.path.splitext(file)[1]==ext])\n",
    "    \n",
    "    # return dataframe object\n",
    "    return df"
   ]
  },
  {
   "cell_type": "code",
   "execution_count": 7,
   "metadata": {
    "scrolled": true
   },
   "outputs": [],
   "source": [
    "# call getfiles function\n",
    "df=GetFiles(\"Sales Data\",\".txt\")"
   ]
  },
  {
   "cell_type": "code",
   "execution_count": 8,
   "metadata": {
    "scrolled": true
   },
   "outputs": [],
   "source": [
    "# specify ref file\n",
    "refFile=f\"{BasePath}\\City-Region Ref.xlsx\"\n",
    "\n",
    "# read in ref file as ordered dict\n",
    "Ref=pd.read_excel(refFile, sheet_name=None)\n",
    "\n",
    "# unpack ref files into dataframes\n",
    "City,Manager,Rep=[Ref[tab] for tab in Ref]"
   ]
  },
  {
   "cell_type": "markdown",
   "metadata": {},
   "source": [
    "# PART TWO\n",
    "## GROOM AND MERGE DATA WITH REF TABLES"
   ]
  },
  {
   "cell_type": "code",
   "execution_count": 9,
   "metadata": {},
   "outputs": [],
   "source": [
    "# define function to combine city and state\n",
    "def CityState(df):\n",
    "    state=df[\"State\"]\n",
    "    city=df[\"City\"]\n",
    "    return f\"{city}, {state}\"\n",
    "\n",
    "df[\"City\"]=df.apply(CityState, axis=1)"
   ]
  },
  {
   "cell_type": "code",
   "execution_count": 10,
   "metadata": {
    "scrolled": true
   },
   "outputs": [],
   "source": [
    "# convert ref tables to upper string\n",
    "City=City.apply(lambda x:x.astype(str).str.upper())\n",
    "Manager=Manager.apply(lambda x:x.astype(str).str.upper())\n",
    "Rep=Rep.apply(lambda x:x.astype(str).str.upper())"
   ]
  },
  {
   "cell_type": "code",
   "execution_count": 11,
   "metadata": {
    "scrolled": false
   },
   "outputs": [],
   "source": [
    "def OuterJoin(df1,df2,index1,index2):\n",
    "    df1=df1.set_index(index1)\n",
    "    df2=df2.set_index(index2)\n",
    "    mergedDF=df1.merge(df2, how=\"outer\",left_index=True, right_index=True)\n",
    "    mergedDF=mergedDF.reset_index().rename(columns={\"index\":index1})\n",
    "    return mergedDF\n",
    "\n",
    "df=OuterJoin(df,City,\"City\",\"City\")\n",
    "df=OuterJoin(df,Manager,\"Region\",\"Region\")\n",
    "df=OuterJoin(df,Rep,\"City\",\"City\")"
   ]
  },
  {
   "cell_type": "code",
   "execution_count": 12,
   "metadata": {
    "scrolled": true
   },
   "outputs": [],
   "source": [
    "# convert currency string to float\n",
    "def ConvertNum(value):\n",
    "    value=value.replace(\"$\",\"\").replace(\",\",\"\")\n",
    "    value=float(value)\n",
    "    return value\n",
    "\n",
    "df[\"Investment\"]=df[\"Investment\"].apply(ConvertNum)\n",
    "df[\"Revenue\"]=df[\"Revenue\"].apply(ConvertNum)"
   ]
  },
  {
   "cell_type": "code",
   "execution_count": 13,
   "metadata": {},
   "outputs": [],
   "source": [
    "# convert date to datetime object\n",
    "df[\"Date\"]=pd.to_datetime(df[\"Date\"])"
   ]
  },
  {
   "cell_type": "code",
   "execution_count": 14,
   "metadata": {},
   "outputs": [],
   "source": [
    "# get year, month, and quarter from datetime object\n",
    "df[\"year\"]=df[\"Date\"].apply(lambda x:x.year)\n",
    "df[\"month\"]=df[\"Date\"].apply(lambda x:x.month)\n",
    "df[\"quarter\"]=df[\"Date\"].apply(lambda x:f\"Q{x.quarter}\")"
   ]
  },
  {
   "cell_type": "code",
   "execution_count": 15,
   "metadata": {},
   "outputs": [],
   "source": [
    "df[\"Net\"]=df[\"Revenue\"]-df[\"Investment\"]"
   ]
  },
  {
   "cell_type": "code",
   "execution_count": 16,
   "metadata": {
    "scrolled": true
   },
   "outputs": [],
   "source": [
    "# function to get return Return on investment\n",
    "def ROI(df):\n",
    "    a=df[\"Investment\"]\n",
    "    b=df[\"Net\"]\n",
    "    roi=round((b/a),3)\n",
    "    return roi\n",
    "df[\"ROI\"]=df.apply(ROI,axis=1)\n",
    "df[\"Profit/Loss\"]=df[\"ROI\"].apply(lambda x:\"Profit\" if x > 0 else \"Loss\")"
   ]
  },
  {
   "cell_type": "markdown",
   "metadata": {},
   "source": [
    "# PART THREE\n",
    "## DEFINE HEATMAP AND SUMMARY FUNCTIONS"
   ]
  },
  {
   "cell_type": "code",
   "execution_count": 17,
   "metadata": {
    "scrolled": false
   },
   "outputs": [],
   "source": [
    "# define function to return color coded heatmap\n",
    "def HeatMap(df,iList,cList,value=None, axis=None):\n",
    "    HeatMap=pd.pivot_table(df, values=value,\n",
    "              index=iList,\n",
    "              columns=cList).round(3)\n",
    "    HeatMap=HeatMap.style.background_gradient(cmap=sns.light_palette(\"green\", as_cmap=True), axis=axis)\n",
    "    return HeatMap"
   ]
  },
  {
   "cell_type": "code",
   "execution_count": 18,
   "metadata": {},
   "outputs": [],
   "source": [
    "# get heatmap objects\n",
    "yearRegion=HeatMap(df,[\"year\"],[\"Region\"],value=\"ROI\",axis=1)\n",
    "yearProperty=HeatMap(df,[\"year\"],[\"Property Type\"],value=\"ROI\",axis=1)\n",
    "yearMonth=HeatMap(df,[\"year\"],[\"month\"],value=\"ROI\",axis=1)\n",
    "cityYear=HeatMap(df,[\"City\"],[\"year\"],value=\"ROI\",axis=0)"
   ]
  },
  {
   "cell_type": "code",
   "execution_count": 19,
   "metadata": {},
   "outputs": [],
   "source": [
    "# 1.\tdefine a loop that run through each unique year and region\n",
    "# 2.\tuse groupby function to get count of profit/loss by quarter\n",
    "# 3.\tget pivot table of avg ROI by quarter and region\n",
    "# 4.\tget pivot table of avg ROI by month and region\n",
    "# 5.\tget string month value from number\n",
    "\n",
    "def GetSummary(subtype=None):\n",
    "    d1={}\n",
    "    for year in df[\"year\"].unique():\n",
    "        for region in df[\"Region\"].unique():\n",
    "            DF=df[(df[\"year\"]==year) & (df[\"Region\"]==region)]\n",
    "            \n",
    "            if subtype==\"A\":\n",
    "                DF=DF.groupby([\"quarter\",\"Profit/Loss\"])[\"Profit/Loss\"].count().unstack().fillna(0).astype(int)\n",
    "                DF=DF[[\"Profit\",\"Loss\"]]\n",
    "                \n",
    "            elif subtype==\"B\":\n",
    "                DF=pd.pivot_table(DF, values=\"ROI\",\n",
    "                               index=[\"quarter\"],\n",
    "                                  columns=\"Region\").round(3)\n",
    "                \n",
    "            elif subtype==\"C\":\n",
    "                DF=pd.pivot_table(DF, values=\"ROI\",\n",
    "                               index=[\"month\"],\n",
    "                                  columns=\"Region\").round(3)\n",
    "                DF.index=DF.index.map(lambda x:calendar.month_abbr[x])\n",
    "                \n",
    "            elif subtype==\"D\":\n",
    "                DF=DF.groupby([\"Property Type\"])[\"ROI\"].mean().to_frame().round(3)\n",
    "                \n",
    "            d1[f\"{year}-{region}\"]=DF\n",
    "    return d1"
   ]
  },
  {
   "cell_type": "markdown",
   "metadata": {},
   "source": [
    "# PART FOUR\n",
    "## DEFINE FUNCTIONS TO INSERT TABLES AND CHARTS"
   ]
  },
  {
   "cell_type": "code",
   "execution_count": 20,
   "metadata": {},
   "outputs": [],
   "source": [
    "def InsertTable(_DICTIONARY,_WRITER,title):\n",
    "    row=0\n",
    "    for i,x in enumerate(_DICTIONARY):\n",
    "        tempDF=_DICTIONARY[x]\n",
    "        \n",
    "        #watch out here\n",
    "        #get the length of the first field\n",
    "        #tempDF.columns[0] return the first column name\n",
    "        #tempDF[tempDF.columns[0]] return a series\n",
    "        #len(tempDF[tempDF.columns[0]]) returns the length of the series\n",
    "        sLen=len(tempDF[tempDF.columns[0]])\n",
    "        \n",
    "        tempDF.to_excel(_WRITER,\n",
    "                        sheet_name = title\n",
    "                        ,startrow=row, startcol=0)\n",
    "        row=(row+sLen+2)"
   ]
  },
  {
   "cell_type": "code",
   "execution_count": 21,
   "metadata": {},
   "outputs": [],
   "source": [
    "def InsertChart(_DICTIONARY,\n",
    "                _WORKSHEET,\n",
    "                WORKBOOK,\n",
    "                _SheetName):\n",
    "    chart_List=[]\n",
    "    _Row=1\n",
    "    _Columns=0\n",
    "    for i,x in enumerate(_DICTIONARY):\n",
    "        title=f\"{x}\"\n",
    "        tempDF=_DICTIONARY[x]\n",
    "        qaz=tempDF.iloc[0]\n",
    "        sLen=len(qaz)+1\n",
    "        rLen=len(list(_DICTIONARY[x].index))\n",
    "        chart = WORKBOOK.add_chart({'type': 'column'})\n",
    "        for col_num in range(1, sLen):\n",
    "            chart.add_series({\n",
    "                'name':       [_SheetName, _Columns, col_num],\n",
    "                'categories': [_SheetName, _Row, 0, (rLen+_Row-1), 0],\n",
    "                'values':     [_SheetName, _Row, col_num, (rLen+_Row-1), col_num],\n",
    "                'overlap':    -5,\n",
    "                'data_labels': {'value': True,\n",
    "                                'font': {'name': 'Calibri', \"bold\":True, \"size\":10}}\n",
    "            })\n",
    "            chart.set_x_axis({'name':\"\", 'major_gridlines': {'visible': False}})\n",
    "            chart.set_y_axis({'name':\"\", 'major_gridlines': {'visible': False}})\n",
    "        chart.set_title ({'name':title})\n",
    "        chart.set_legend({'position': 'none'})\n",
    "        chart.set_size({'width': 700, 'height': 477.252})\n",
    "        chart_List.append(chart)\n",
    "        _Row =_Row+rLen+2\n",
    "        _Columns = _Columns+rLen+2\n",
    "    # ------------------------------------------------------------------------------------\n",
    "    # Insert the chart into the worksheet.\n",
    "    num1=1\n",
    "    num2=5\n",
    "    _count_=0\n",
    "    cellDict={1: 'A', 2: 'L', 3: 'W', 4: 'AH', 5: 'AS', 6: 'BD', 7: 'BO'}\n",
    "    for i,x in enumerate(_DICTIONARY):\n",
    "        _count_+=1\n",
    "        _WORKSHEET.insert_chart(cellDict[_count_]+str(num1), chart_List[i],{\"x_scale\":1,\"y_scale\":1})\n",
    "        if _count_ == 7:\n",
    "            _count_= 0\n",
    "            num1+=24"
   ]
  },
  {
   "cell_type": "markdown",
   "metadata": {},
   "source": [
    "# PART FIVE\n",
    "## DEFINE FUNCTIONS TO SAVE CHARTS TO FILE"
   ]
  },
  {
   "cell_type": "code",
   "execution_count": 22,
   "metadata": {},
   "outputs": [],
   "source": [
    "# saves charts to file\n",
    "def SaveCharts(dList,savePath):\n",
    "    with pd.ExcelWriter(f\"{savePath}\\ROI.xlsx\") as writer:\n",
    "        # declare tab titles\n",
    "        tabList=[\"Year Region\",\"Year Property\",\n",
    "                 \"Year Month ROI\",\"City Year\"]\n",
    "        # declare list of heat map objects\n",
    "        hList=[yearRegion,yearProperty,yearMonth,cityYear]\n",
    "        # for loop to add heat maps to workbook\n",
    "        for a,b in zip(hList,tabList):\n",
    "            a.to_excel(writer,sheet_name=b)\n",
    "            \n",
    "        # declare dashboard objects\n",
    "        workbook=writer.book\n",
    "        DB1=workbook.add_worksheet(\"Profit_Loss by quarter\")\n",
    "        DB2=workbook.add_worksheet(\"ROI by quarter\")\n",
    "        DB3=workbook.add_worksheet(\"ROI by month\")\n",
    "        DB4=workbook.add_worksheet(\"ROI by property\")\n",
    "        DBList=[DB1,DB2,DB3,DB4]\n",
    "        # ref titles\n",
    "        RefList=[\"Ref 1\",\"Ref 2\",\"Ref 3\",\"Ref 4\"]\n",
    "        \n",
    "        # for loop to set zoom for each dashboard and insert tables/charts\n",
    "        for x in DBList:\n",
    "            x.set_zoom(36)\n",
    "        for a,b,c in zip(dList,DBList,RefList):\n",
    "            InsertTable(a,writer,c)\n",
    "            InsertChart(a,b,workbook,c)"
   ]
  },
  {
   "cell_type": "markdown",
   "metadata": {},
   "source": [
    "# PART SIX\n",
    "## DEFINE FUNCTION TO SAVE RECORDS TO JSON FILES"
   ]
  },
  {
   "cell_type": "code",
   "execution_count": 23,
   "metadata": {
    "scrolled": true
   },
   "outputs": [
    {
     "name": "stderr",
     "output_type": "stream",
     "text": [
      "C:\\Users\\immanuel\\Anaconda3\\lib\\site-packages\\ipykernel_launcher.py:15: SettingWithCopyWarning: \n",
      "A value is trying to be set on a copy of a slice from a DataFrame.\n",
      "Try using .loc[row_indexer,col_indexer] = value instead\n",
      "\n",
      "See the caveats in the documentation: http://pandas.pydata.org/pandas-docs/stable/user_guide/indexing.html#returning-a-view-versus-a-copy\n",
      "  from ipykernel import kernelapp as app\n"
     ]
    }
   ],
   "source": [
    "exportColumns=['City', 'Region', 'State','Investment',\n",
    "               'Revenue', 'Date','Property Type','month',\n",
    "               'quarter','Net', 'ROI', 'Profit/Loss']\n",
    "\n",
    "totalRows=0\n",
    "\n",
    "year={}\n",
    "for x in df[\"year\"].unique():\n",
    "    manager={}\n",
    "    for y in df[\"Regional Manager\"].unique():\n",
    "        rep={}\n",
    "        for z in df[\"City Rep\"].unique():\n",
    "            field={}\n",
    "            DF = df[(df[\"year\"]==x) & (df[\"Regional Manager\"]==y) & (df[\"City Rep\"]==z)]\n",
    "            DF[\"Date\"]=DF[\"Date\"].astype(str)\n",
    "            if DF.shape[0] > 0:\n",
    "                totalRows+=DF.shape[0]\n",
    "                DF=DF[exportColumns]\n",
    "                rep[z]=DF.to_dict(orient=\"records\")\n",
    "                manager[y]={\"City Reps\":rep}\n",
    "                year[str(x)]=manager"
   ]
  },
  {
   "cell_type": "code",
   "execution_count": 24,
   "metadata": {},
   "outputs": [
    {
     "data": {
      "text/html": [
       "<div>\n",
       "<style scoped>\n",
       "    .dataframe tbody tr th:only-of-type {\n",
       "        vertical-align: middle;\n",
       "    }\n",
       "\n",
       "    .dataframe tbody tr th {\n",
       "        vertical-align: top;\n",
       "    }\n",
       "\n",
       "    .dataframe thead th {\n",
       "        text-align: right;\n",
       "    }\n",
       "</style>\n",
       "<table border=\"1\" class=\"dataframe\">\n",
       "  <thead>\n",
       "    <tr style=\"text-align: right;\">\n",
       "      <th></th>\n",
       "      <th>Year</th>\n",
       "      <th>Regional Managers</th>\n",
       "    </tr>\n",
       "  </thead>\n",
       "  <tbody>\n",
       "    <tr>\n",
       "      <td>0</td>\n",
       "      <td>2011</td>\n",
       "      <td>{'MARCELA MAXIM': {'City Reps': {'JYRI SINGH':...</td>\n",
       "    </tr>\n",
       "    <tr>\n",
       "      <td>1</td>\n",
       "      <td>2012</td>\n",
       "      <td>{'MARCELA MAXIM': {'City Reps': {'JYRI SINGH':...</td>\n",
       "    </tr>\n",
       "    <tr>\n",
       "      <td>2</td>\n",
       "      <td>2013</td>\n",
       "      <td>{'MARCELA MAXIM': {'City Reps': {'JYRI SINGH':...</td>\n",
       "    </tr>\n",
       "    <tr>\n",
       "      <td>3</td>\n",
       "      <td>2014</td>\n",
       "      <td>{'MARCELA MAXIM': {'City Reps': {'JYRI SINGH':...</td>\n",
       "    </tr>\n",
       "    <tr>\n",
       "      <td>4</td>\n",
       "      <td>2015</td>\n",
       "      <td>{'MARCELA MAXIM': {'City Reps': {'JYRI SINGH':...</td>\n",
       "    </tr>\n",
       "  </tbody>\n",
       "</table>\n",
       "</div>"
      ],
      "text/plain": [
       "   Year                                  Regional Managers\n",
       "0  2011  {'MARCELA MAXIM': {'City Reps': {'JYRI SINGH':...\n",
       "1  2012  {'MARCELA MAXIM': {'City Reps': {'JYRI SINGH':...\n",
       "2  2013  {'MARCELA MAXIM': {'City Reps': {'JYRI SINGH':...\n",
       "3  2014  {'MARCELA MAXIM': {'City Reps': {'JYRI SINGH':...\n",
       "4  2015  {'MARCELA MAXIM': {'City Reps': {'JYRI SINGH':..."
      ]
     },
     "execution_count": 24,
     "metadata": {},
     "output_type": "execute_result"
    }
   ],
   "source": [
    "DF=pd.DataFrame(year.items(),columns=[\"Year\",\"Regional Managers\"])\n",
    "DF"
   ]
  },
  {
   "cell_type": "code",
   "execution_count": 25,
   "metadata": {},
   "outputs": [],
   "source": [
    "def SaveToJson(df,subtype=None):\n",
    "    for x in df[\"Year\"].unique():\n",
    "        js=df[df[\"Year\"]==x]\n",
    "        js=js.to_json(orient=subtype)\n",
    "        with open(f\"{jOut}\\Real Estate Sales Data - {x}.json\",\"w\") as f:\n",
    "            f.write(js)"
   ]
  },
  {
   "cell_type": "markdown",
   "metadata": {},
   "source": [
    "# PART SEVEN"
   ]
  },
  {
   "cell_type": "markdown",
   "metadata": {},
   "source": [
    "## CALL FUNCTIONS TO SAVE CHARTS/TABLES TO FILE"
   ]
  },
  {
   "cell_type": "code",
   "execution_count": 26,
   "metadata": {},
   "outputs": [],
   "source": [
    "# call functions to save tables and charts\n",
    "DictList=[GetSummary(subtype=\"A\"),GetSummary(subtype=\"B\"),GetSummary(subtype=\"C\"),GetSummary(subtype=\"D\")]\n",
    "SaveCharts(DictList,Dir(\"Output-ROI\"))"
   ]
  },
  {
   "cell_type": "markdown",
   "metadata": {},
   "source": [
    "## CALL FUNCTION TO SAVE RECORDS TO JSON FILES"
   ]
  },
  {
   "cell_type": "code",
   "execution_count": 27,
   "metadata": {},
   "outputs": [],
   "source": [
    "# call function to save to json\n",
    "jOut=Dir(\"Output-Json\")\n",
    "SaveToJson(DF,subtype=\"records\")"
   ]
  },
  {
   "cell_type": "code",
   "execution_count": 28,
   "metadata": {},
   "outputs": [
    {
     "name": "stdout",
     "output_type": "stream",
     "text": [
      "0:00:17.024213\n"
     ]
    }
   ],
   "source": [
    "end=datetime.datetime.now()\n",
    "print(f\"{end-start}\")"
   ]
  },
  {
   "cell_type": "code",
   "execution_count": 44,
   "metadata": {},
   "outputs": [
    {
     "data": {
      "text/plain": [
       "28784"
      ]
     },
     "execution_count": 44,
     "metadata": {},
     "output_type": "execute_result"
    }
   ],
   "source": [
    "totalRows"
   ]
  },
  {
   "cell_type": "code",
   "execution_count": 46,
   "metadata": {},
   "outputs": [
    {
     "data": {
      "text/plain": [
       "True"
      ]
     },
     "execution_count": 46,
     "metadata": {},
     "output_type": "execute_result"
    }
   ],
   "source": [
    "df.shape[0]==totalRows"
   ]
  }
 ],
 "metadata": {
  "kernelspec": {
   "display_name": "Python 3",
   "language": "python",
   "name": "python3"
  },
  "language_info": {
   "codemirror_mode": {
    "name": "ipython",
    "version": 3
   },
   "file_extension": ".py",
   "mimetype": "text/x-python",
   "name": "python",
   "nbconvert_exporter": "python",
   "pygments_lexer": "ipython3",
   "version": "3.7.4"
  }
 },
 "nbformat": 4,
 "nbformat_minor": 2
}
