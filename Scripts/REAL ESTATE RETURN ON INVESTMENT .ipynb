{
 "cells": [
  {
   "cell_type": "markdown",
   "metadata": {},
   "source": [
    "# INTRODUCTION"
   ]
  },
  {
   "cell_type": "code",
   "execution_count": 1,
   "metadata": {},
   "outputs": [],
   "source": [
    "# Use pandas to automate data migration and report creation"
   ]
  },
  {
   "cell_type": "code",
   "execution_count": 2,
   "metadata": {},
   "outputs": [],
   "source": [
    "# You work for a company that has offices in different cities across the us\n",
    "# they have sales data for 1 10 year period\n",
    "# and need you to do the following\n",
    "\n",
    "# 1.\tCreate heatmaps\n",
    "#     a.\tYear by region\n",
    "#     b.\tYear by property\n",
    "#     c.\tYear by month\n",
    "#     d.\tCity by year\n",
    "# 2.\tCreate graphs with a row for each year and a column for each region\n",
    "#     a.\tProfit/loss\n",
    "#     b.\tROI by quarter\n",
    "#     c.\tROI by month\n",
    "# 3.\tSave records to json file by year"
   ]
  },
  {
   "cell_type": "code",
   "execution_count": 3,
   "metadata": {},
   "outputs": [],
   "source": [
    "# 1.\tMain skills used\n",
    "#     a.\tUse os module to navigate folder\n",
    "#     b.\tUse merge function to join tables(dataframe)\n",
    "#     c.\tUse XlsxWriter to save tables and charts to a file\n",
    "#     d.\tUse json library to write to json"
   ]
  },
  {
   "cell_type": "markdown",
   "metadata": {},
   "source": [
    "# PART ONE\n",
    "## IMPORT STATEMENTS AND READING IN A FILE"
   ]
  },
  {
   "cell_type": "code",
   "execution_count": 4,
   "metadata": {},
   "outputs": [],
   "source": [
    "# write import statement\n",
    "import pandas as pd\n",
    "import datetime\n",
    "import os\n",
    "import json\n",
    "import seaborn as sns\n",
    "import calendar\n",
    "\n",
    "start=datetime.datetime.now()"
   ]
  },
  {
   "cell_type": "code",
   "execution_count": 5,
   "metadata": {},
   "outputs": [],
   "source": [
    "# define function to concat all specified files types\n",
    "def getFiles(path,ext):\n",
    "    os.chdir(path)\n",
    "    df=pd.concat([pd.read_csv(file) for file in os.listdir() if os.path.splitext(file)[1]==ext])\n",
    "    return df"
   ]
  },
  {
   "cell_type": "code",
   "execution_count": 6,
   "metadata": {},
   "outputs": [],
   "source": [
    "# specify file path with file that you want to read\n",
    "path=r\"C:\\Users\\immanuel\\Desktop\\FEED MIGRATION\\Data Migration\\Sales Data\"\n",
    "# call getfiles function\n",
    "df=getFiles(path,\".txt\")"
   ]
  },
  {
   "cell_type": "code",
   "execution_count": 7,
   "metadata": {
    "scrolled": true
   },
   "outputs": [],
   "source": [
    "# specify ref file\n",
    "refFile=r\"C:\\Users\\immanuel\\Desktop\\FEED MIGRATION\\Data Migration\\City-Region Ref.xlsx\"\n",
    "# read in ref file as ordered dict\n",
    "Ref=pd.read_excel(refFile, sheet_name=None, encoding=\"utf8\")\n",
    "# unpack ref files into dataframes\n",
    "City,Manager,Rep=[Ref[tab] for tab in Ref]"
   ]
  },
  {
   "cell_type": "markdown",
   "metadata": {},
   "source": [
    "# PART TWO\n",
    "## GROOM AND MERGE DATA WITH REF TABLES"
   ]
  },
  {
   "cell_type": "code",
   "execution_count": 8,
   "metadata": {},
   "outputs": [],
   "source": [
    "# define function to combine city and state\n",
    "def combineCityState(df):\n",
    "    state=df[\"State\"]\n",
    "    city=df[\"City\"]\n",
    "    return f\"{city}, {state}\"\n",
    "\n",
    "df[\"City\"]=df.apply(combineCityState, axis=1)"
   ]
  },
  {
   "cell_type": "code",
   "execution_count": 9,
   "metadata": {
    "scrolled": true
   },
   "outputs": [],
   "source": [
    "# convert ref tables to upper string\n",
    "# https://stackoverflow.com/questions/39512002/convert-whole-dataframe-from-lower-case-to-upper-case-with-pandas\n",
    "City=City.apply(lambda x:x.astype(str).str.upper())\n",
    "Manager=Manager.apply(lambda x:x.astype(str).str.upper())\n",
    "Rep=Rep.apply(lambda x:x.astype(str).str.upper())"
   ]
  },
  {
   "cell_type": "code",
   "execution_count": 10,
   "metadata": {
    "scrolled": false
   },
   "outputs": [],
   "source": [
    "def MergeIndex(df1,df2,index1,index2):\n",
    "    df1=df1.set_index(index1)\n",
    "    df2=df2.set_index(index2)\n",
    "    mergedDF=df1.merge(df2, how=\"outer\",left_index=True, right_index=True)\n",
    "    mergedDF=mergedDF.reset_index().rename(columns={\"index\":index1})\n",
    "    return mergedDF\n",
    "\n",
    "df=MergeIndex(df,City,\"City\",\"City\")\n",
    "df=MergeIndex(df,Manager,\"Region\",\"Region\")\n",
    "df=MergeIndex(df,Rep,\"City\",\"City\")"
   ]
  },
  {
   "cell_type": "code",
   "execution_count": 11,
   "metadata": {
    "scrolled": true
   },
   "outputs": [],
   "source": [
    "# convert currency string to float\n",
    "\n",
    "# one line conversion\n",
    "# df[\"Investment\"].apply(lambda x:float(x.replace(\"$\",\"\").replace(\",\",\"\")))\n",
    "\n",
    "def convertNum(value):\n",
    "    value=value.replace(\"$\",\"\").replace(\",\",\"\")\n",
    "    value=float(value)\n",
    "    return value\n",
    "\n",
    "df[\"Investment\"]=df[\"Investment\"].apply(convertNum)\n",
    "df[\"Revenue\"]=df[\"Revenue\"].apply(convertNum)"
   ]
  },
  {
   "cell_type": "code",
   "execution_count": 12,
   "metadata": {},
   "outputs": [],
   "source": [
    "# convert date to datetime object\n",
    "df[\"Date\"]=pd.to_datetime(df[\"Date\"])"
   ]
  },
  {
   "cell_type": "code",
   "execution_count": 13,
   "metadata": {},
   "outputs": [],
   "source": [
    "# get year, month, and quarter from datetime object\n",
    "df[\"year\"]=df[\"Date\"].apply(lambda x:x.year)\n",
    "df[\"month\"]=df[\"Date\"].apply(lambda x:x.month)\n",
    "df[\"quarter\"]=df[\"Date\"].apply(lambda x:x.quarter)"
   ]
  },
  {
   "cell_type": "code",
   "execution_count": 14,
   "metadata": {},
   "outputs": [],
   "source": [
    "df[\"Net\"]=df[\"Revenue\"]-df[\"Investment\"]"
   ]
  },
  {
   "cell_type": "code",
   "execution_count": 15,
   "metadata": {
    "scrolled": true
   },
   "outputs": [],
   "source": [
    "# function to get return ROI\n",
    "def ROI(df):\n",
    "    a=df[\"Investment\"]\n",
    "    b=df[\"Net\"]\n",
    "    roi=round((b/a),3)\n",
    "    return roi\n",
    "df[\"ROI\"]=df.apply(ROI,axis=1)\n",
    "df[\"Profit/Loss\"]=df[\"ROI\"].apply(lambda x:\"Profit\" if x > 0 else \"Loss\")"
   ]
  },
  {
   "cell_type": "markdown",
   "metadata": {},
   "source": [
    "# PART THREE\n",
    "## DEFINE HEATMAP AND SUMMARY FUNCTIONS"
   ]
  },
  {
   "cell_type": "code",
   "execution_count": 16,
   "metadata": {
    "scrolled": false
   },
   "outputs": [],
   "source": [
    "# define function to return color coded heatmap\n",
    "def HeatMap(df,iList,cList,axis=None):\n",
    "    HeatMap=pd.pivot_table(df, values=\"ROI\",\n",
    "              index=iList,\n",
    "              columns=cList).round(3)\n",
    "    HeatMap=HeatMap.style.background_gradient(cmap=sns.light_palette(\"green\", as_cmap=True), axis=1)\n",
    "    return HeatMap"
   ]
  },
  {
   "cell_type": "code",
   "execution_count": 17,
   "metadata": {},
   "outputs": [],
   "source": [
    "# get heatmap objects\n",
    "yearRegion=HeatMap(df,[\"year\"],[\"Region\"])\n",
    "yearProperty=HeatMap(df,[\"year\"],[\"Property Type\"])\n",
    "yearMonth=HeatMap(df,[\"year\"],[\"month\"])\n",
    "cityYear=HeatMap(df,[\"City\"],[\"year\"],axis=0)"
   ]
  },
  {
   "cell_type": "code",
   "execution_count": 18,
   "metadata": {},
   "outputs": [],
   "source": [
    "# 1.\tdefine a loop that run through each unique year and region\n",
    "# 2.\tuse groupby function to get count of profit/loss by quarter\n",
    "# 3.\tget pivot table of avg ROI by quarter and region\n",
    "# 4.\tget pivot table of avg ROI by month and region\n",
    "# 5.\tget string month value from number\n",
    "\n",
    "def getSummary(subtype=None):\n",
    "    d1={}\n",
    "    for year in df[\"year\"].unique():\n",
    "        for region in df[\"Region\"].unique():\n",
    "            DF=df[(df[\"year\"]==year) & (df[\"Region\"]==region)]\n",
    "            if subtype==\"A\":\n",
    "                DF=DF.groupby([\"quarter\",\"Profit/Loss\"])[\"Profit/Loss\"].count().unstack().fillna(0).astype(int)\n",
    "                DF=DF[[\"Profit\",\"Loss\"]]\n",
    "            elif subtype==\"B\":\n",
    "                DF=pd.pivot_table(DF, values=\"ROI\",\n",
    "                               index=[\"quarter\"],\n",
    "                                  columns=\"Region\").round(3)\n",
    "            elif subtype==\"C\":\n",
    "                DF=pd.pivot_table(DF, values=\"ROI\",\n",
    "                               index=[\"month\"],\n",
    "                                  columns=\"Region\").round(3)\n",
    "                DF.index=DF.index.map(lambda x:calendar.month_abbr[x])\n",
    "            d1[f\"{year}-{region}\"]=DF\n",
    "    return d1"
   ]
  },
  {
   "cell_type": "markdown",
   "metadata": {},
   "source": [
    "# PART FOUR\n",
    "## DEFINE FUNCTIONS TO INSERT TABLES AND CHARTS"
   ]
  },
  {
   "cell_type": "code",
   "execution_count": 20,
   "metadata": {},
   "outputs": [],
   "source": [
    "def InsertTable(_DICTIONARY,_WRITER,title):\n",
    "    row=0\n",
    "    for i,x in enumerate(_DICTIONARY):\n",
    "        tempDF=_DICTIONARY[x]\n",
    "        \n",
    "        #watch out here\n",
    "        #get the length of the first field\n",
    "        #tempDF.columns[0] return the first column name\n",
    "        #tempDF[tempDF.columns[0]] return a series\n",
    "        #len(tempDF[tempDF.columns[0]]) returns the length of the series\n",
    "        sLen=len(tempDF[tempDF.columns[0]])\n",
    "        \n",
    "        tempDF.to_excel(_WRITER,\n",
    "                        sheet_name = title\n",
    "                        ,startrow=row, startcol=0)\n",
    "        row=(row+sLen+2)"
   ]
  },
  {
   "cell_type": "code",
   "execution_count": 21,
   "metadata": {},
   "outputs": [],
   "source": [
    "def InsertChart(_DICTIONARY,\n",
    "                _WORKSHEET,\n",
    "                WORKBOOK,\n",
    "                _SheetName):\n",
    "    chart_List=[]\n",
    "    _Row=1\n",
    "    _Columns=0\n",
    "    for i,x in enumerate(_DICTIONARY):\n",
    "        title=f\"{x}\"\n",
    "        tempDF=_DICTIONARY[x]\n",
    "        qaz=tempDF.iloc[0]\n",
    "        sLen=len(qaz)+1\n",
    "        rLen=len(list(_DICTIONARY[x].index))\n",
    "        chart = WORKBOOK.add_chart({'type': 'column'})\n",
    "        for col_num in range(1, sLen):\n",
    "            chart.add_series({\n",
    "                'name':       [_SheetName, _Columns, col_num],\n",
    "                'categories': [_SheetName, _Row, 0, (rLen+_Row-1), 0],\n",
    "                'values':     [_SheetName, _Row, col_num, (rLen+_Row-1), col_num],\n",
    "                'overlap':    -5,\n",
    "                'data_labels': {'value': True,\n",
    "                                'font': {'name': 'Calibri', \"bold\":True, \"size\":10}}\n",
    "            })\n",
    "            chart.set_x_axis({'name':\"\", 'major_gridlines': {'visible': False}})\n",
    "            chart.set_y_axis({'name':\"\", 'major_gridlines': {'visible': False}})\n",
    "        chart.set_title ({'name':title})\n",
    "        chart.set_legend({'position': 'none'})\n",
    "        chart.set_size({'width': 700, 'height': 477.252})\n",
    "        chart_List.append(chart)\n",
    "        _Row =_Row+rLen+2\n",
    "        _Columns = _Columns+rLen+2\n",
    "    # ------------------------------------------------------------------------------------\n",
    "    # Insert the chart into the worksheet.\n",
    "    num1=1\n",
    "    num2=5\n",
    "    _count_=0\n",
    "    cellDict={1: 'A', 2: 'L', 3: 'W', 4: 'AH', 5: 'AS', 6: 'BD', 7: 'BO'}\n",
    "    for i,x in enumerate(_DICTIONARY):\n",
    "        _count_+=1\n",
    "        _WORKSHEET.insert_chart(cellDict[_count_]+str(num1), chart_List[i],{\"x_scale\":1,\"y_scale\":1})\n",
    "        if _count_ == 7:\n",
    "            _count_= 0\n",
    "            num1+=24"
   ]
  },
  {
   "cell_type": "markdown",
   "metadata": {},
   "source": [
    "# PART FIVE\n",
    "## DEFINE FUNCTIONS TO SAVE CHARTS TO FILE"
   ]
  },
  {
   "cell_type": "code",
   "execution_count": 22,
   "metadata": {},
   "outputs": [],
   "source": [
    "# saves charts to file\n",
    "def SaveCharts(dList,savePath):\n",
    "    with pd.ExcelWriter(f\"{savePath}\\ROI.xlsx\") as writer:\n",
    "#         save heatmap\n",
    "        tabList=[\"Year Region\",\"Year Property\",\n",
    "                 \"Year Month\",\"City Year\"]\n",
    "        hList=[yearRegion,yearProperty,yearMonth,cityYear]\n",
    "        for a,b in zip(hList,tabList):\n",
    "            a.to_excel(writer,sheet_name=b)\n",
    "            \n",
    "        workbook=writer.book\n",
    "        DB1=workbook.add_worksheet(\"Profit_Loss by year\")\n",
    "        DB2=workbook.add_worksheet(\"ROI by quarter\")\n",
    "        DB3=workbook.add_worksheet(\"ROI by month\")\n",
    "        \n",
    "        DBList=[DB1,DB2,DB3]\n",
    "        for x in DBList:\n",
    "            x.set_zoom(36)\n",
    "        RefList=[\"Ref 1\",\"Ref 2\",\"Ref 3\"]\n",
    "        for a,b,c in zip(dList,DBList,RefList):\n",
    "            InsertTable(a,writer,c)\n",
    "            InsertChart(a,b,workbook,c)"
   ]
  },
  {
   "cell_type": "markdown",
   "metadata": {},
   "source": [
    "# PART SIX\n",
    "## DEFINE FUNCTION TO SAVE RECORDS TO JSON FILES"
   ]
  },
  {
   "cell_type": "code",
   "execution_count": 24,
   "metadata": {},
   "outputs": [],
   "source": [
    "os.chdir(r\"C:\\Users\\immanuel\\Desktop\\FEED MIGRATION\\Data Migration\\Json Output\")\n",
    "def saveToJson(subtype=None):\n",
    "    for x in df[\"year\"].unique():\n",
    "        js=df[df[\"year\"]==x]\n",
    "        js[\"Date\"]=js[\"Date\"].astype(str)\n",
    "        js=js.to_json(orient=subtype)\n",
    "        with open(f\"{subtype.upper()}-{x} Data.json\",\"w\") as f:\n",
    "            f.write(js)"
   ]
  },
  {
   "cell_type": "markdown",
   "metadata": {},
   "source": [
    "# PART SEVEN\n",
    "## CALL FUNCTIONS TO SAVE CHARTS/TABLES TO FILE\n",
    "## CALL FUNCTION TO SAVE RECORDS TO JSON FILES"
   ]
  },
  {
   "cell_type": "code",
   "execution_count": 23,
   "metadata": {},
   "outputs": [
    {
     "name": "stderr",
     "output_type": "stream",
     "text": [
      "C:\\Users\\immanuel\\Anaconda3\\lib\\site-packages\\matplotlib\\colors.py:527: RuntimeWarning: invalid value encountered in less\n",
      "  xa[xa < 0] = -1\n"
     ]
    }
   ],
   "source": [
    "# call functions to save everything\n",
    "savePath=r\"C:\\Users\\immanuel\\Desktop\\FEED MIGRATION\\Data Migration\\ROI Summary\"\n",
    "DictList=[getSummary(subtype=\"A\"),getSummary(subtype=\"B\"),getSummary(subtype=\"C\")]\n",
    "SaveCharts(DictList,savePath)"
   ]
  },
  {
   "cell_type": "code",
   "execution_count": 25,
   "metadata": {},
   "outputs": [
    {
     "name": "stderr",
     "output_type": "stream",
     "text": [
      "C:\\Users\\immanuel\\Anaconda3\\lib\\site-packages\\ipykernel_launcher.py:5: SettingWithCopyWarning: \n",
      "A value is trying to be set on a copy of a slice from a DataFrame.\n",
      "Try using .loc[row_indexer,col_indexer] = value instead\n",
      "\n",
      "See the caveats in the documentation: http://pandas.pydata.org/pandas-docs/stable/user_guide/indexing.html#returning-a-view-versus-a-copy\n",
      "  \"\"\"\n"
     ]
    }
   ],
   "source": [
    "# call function to save to json\n",
    "saveToJson(\"records\")"
   ]
  },
  {
   "cell_type": "code",
   "execution_count": 26,
   "metadata": {},
   "outputs": [
    {
     "name": "stdout",
     "output_type": "stream",
     "text": [
      "0:00:08.107944\n"
     ]
    }
   ],
   "source": [
    "end=datetime.datetime.now()\n",
    "print(f\"{end-start}\")"
   ]
  }
 ],
 "metadata": {
  "kernelspec": {
   "display_name": "Python 3",
   "language": "python",
   "name": "python3"
  },
  "language_info": {
   "codemirror_mode": {
    "name": "ipython",
    "version": 3
   },
   "file_extension": ".py",
   "mimetype": "text/x-python",
   "name": "python",
   "nbconvert_exporter": "python",
   "pygments_lexer": "ipython3",
   "version": "3.7.4"
  }
 },
 "nbformat": 4,
 "nbformat_minor": 2
}
