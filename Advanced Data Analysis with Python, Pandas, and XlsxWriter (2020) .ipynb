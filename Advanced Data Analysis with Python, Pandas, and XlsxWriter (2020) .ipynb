{
 "cells": [
  {
   "cell_type": "markdown",
   "metadata": {},
   "source": [
    "# INTRODUCTION\n",
    "    # Use pandas to automate data migration and report creation\n",
    "    # You work for a company that has offices in different cities across the us\n",
    "    # they have sales data for 1 10 year period\n",
    "    # and need you to do the following\n",
    "\n",
    "##### 1.\tCreate heatmaps\n",
    "         a.\tYear by region\n",
    "         b.\tYear by property\n",
    "         c.\tYear by month\n",
    "         d.\tCity by year\n",
    "##### 2.\tCreate graphs with a row for each year and a column for each region\n",
    "         a.\tProfit/loss\n",
    "         b.\tROI by quarter\n",
    "         c.\tROI by month\n",
    "         d.\tROI by property type\n",
    "##### 3.\tSave records to json file by year\n",
    "         a.\tGroup by regional manager and city rep\n",
    "##### 4.\tMain skills used\n",
    "         a.\tUse os module to navigate folder\n",
    "         b.\tUse merge function to join tables(dataframe)\n",
    "         c.\tUse XlsxWriter to save tables and charts to a file\n",
    "         d.\tUse json library to write to json"
   ]
  },
  {
   "cell_type": "markdown",
   "metadata": {},
   "source": [
    "# PART ONE\n",
    "## IMPORT STATEMENTS AND READING IN MULTIPLE FILES"
   ]
  },
  {
   "cell_type": "code",
   "execution_count": null,
   "metadata": {},
   "outputs": [],
   "source": [
    "import pandas as pd\n",
    "import datetime \n",
    "import os\n",
    "import json\n",
    "import seaborn as sns\n",
    "import calendar\n",
    "\n",
    "Start=datetime.datetime.now()"
   ]
  },
  {
   "cell_type": "code",
   "execution_count": null,
   "metadata": {},
   "outputs": [],
   "source": [
    "BasePath=os.getcwd()\n",
    "BasePath"
   ]
  },
  {
   "cell_type": "code",
   "execution_count": null,
   "metadata": {},
   "outputs": [],
   "source": [
    "def Dir(name):\n",
    "    path=f\"{BasePath}\\{name}\"\n",
    "    os.makedirs(f\"{BasePath}\\{name}\",exist_ok=True)\n",
    "    return path"
   ]
  },
  {
   "cell_type": "code",
   "execution_count": null,
   "metadata": {},
   "outputs": [],
   "source": [
    "def GetFiles(path,ext):\n",
    "    os.chdir(f\"{BasePath}\\{path}\")\n",
    "    df=pd.concat([pd.read_csv(file) for file in os.listdir() if os.path.splitext(file)[1]==ext])\n",
    "    return df"
   ]
  },
  {
   "cell_type": "code",
   "execution_count": null,
   "metadata": {},
   "outputs": [],
   "source": [
    "df=GetFiles(\"Sales Data\",\".txt\")"
   ]
  },
  {
   "cell_type": "code",
   "execution_count": null,
   "metadata": {},
   "outputs": [],
   "source": [
    "df"
   ]
  },
  {
   "cell_type": "code",
   "execution_count": null,
   "metadata": {},
   "outputs": [],
   "source": [
    "refFile=f\"{BasePath}\\City-Region Ref.xlsx\"\n",
    "Ref=pd.read_excel(refFile, sheet_name=None)\n",
    "City,Manager,Rep=[Ref[tab] for tab in Ref]"
   ]
  },
  {
   "cell_type": "markdown",
   "metadata": {},
   "source": [
    "# PART TWO\n",
    "## GROOM AND MERGE DATA WITH REF TABLES"
   ]
  },
  {
   "cell_type": "code",
   "execution_count": null,
   "metadata": {},
   "outputs": [],
   "source": [
    "def CityState(df):\n",
    "    state=df[\"State\"]\n",
    "    city=df[\"City\"]\n",
    "    return f\"{city}, {state}\"\n",
    "\n",
    "df[\"City\"]=df.apply(CityState, axis=1)"
   ]
  },
  {
   "cell_type": "code",
   "execution_count": null,
   "metadata": {},
   "outputs": [],
   "source": [
    "City=City.apply(lambda x:x.astype(str).str.upper())\n",
    "Manager=Manager.apply(lambda x:x.astype(str).str.upper())\n",
    "Rep=Rep.apply(lambda x:x.astype(str).str.upper())"
   ]
  },
  {
   "cell_type": "code",
   "execution_count": null,
   "metadata": {},
   "outputs": [],
   "source": [
    "def OuterJoin(df1,df2,index1,index2):\n",
    "    df1=df1.set_index(index1)\n",
    "    df2=df2.set_index(index2)\n",
    "    DF=df1.merge(df2, how=\"outer\", left_index=True, right_index=True)\n",
    "    DF=DF.reset_index().rename(columns={\"index\":index1})\n",
    "    return DF"
   ]
  },
  {
   "cell_type": "code",
   "execution_count": null,
   "metadata": {},
   "outputs": [],
   "source": [
    "df=OuterJoin(df,City,\"City\",\"City\")\n",
    "df=OuterJoin(df,Manager,\"Region\",\"Region\")\n",
    "df=OuterJoin(df,Rep,\"City\",\"City\")"
   ]
  },
  {
   "cell_type": "code",
   "execution_count": null,
   "metadata": {
    "scrolled": true
   },
   "outputs": [],
   "source": [
    "def ConvertNum(value):\n",
    "    value=value.replace(\"$\",\"\").replace(\",\",\"\")\n",
    "    value=float(value)\n",
    "    return value"
   ]
  },
  {
   "cell_type": "code",
   "execution_count": null,
   "metadata": {},
   "outputs": [],
   "source": [
    "df[\"Investment\"]=df['Investment'].apply(ConvertNum)\n",
    "df[\"Revenue\"]=df['Revenue'].apply(ConvertNum)"
   ]
  },
  {
   "cell_type": "code",
   "execution_count": null,
   "metadata": {},
   "outputs": [],
   "source": [
    "df[\"Date\"]=pd.to_datetime(df[\"Date\"])"
   ]
  },
  {
   "cell_type": "code",
   "execution_count": null,
   "metadata": {},
   "outputs": [],
   "source": [
    "df[\"year\"]=df[\"Date\"].apply(lambda x:x.year)\n",
    "df[\"month\"]=df[\"Date\"].apply(lambda x:x.month)\n",
    "df[\"quarter\"]=df[\"Date\"].apply(lambda x:x.quarter)"
   ]
  },
  {
   "cell_type": "code",
   "execution_count": null,
   "metadata": {},
   "outputs": [],
   "source": [
    "df[\"Net\"]=df[\"Revenue\"]-df[\"Investment\"]\n",
    "df[\"Net\"]=df[\"Net\"].round(3)"
   ]
  },
  {
   "cell_type": "code",
   "execution_count": null,
   "metadata": {},
   "outputs": [],
   "source": [
    "def ROI(df):\n",
    "    return round(df[\"Net\"]/df[\"Investment\"],3)\n",
    "\n",
    "df[\"ROI\"]=df.apply(ROI, axis=1)"
   ]
  },
  {
   "cell_type": "code",
   "execution_count": null,
   "metadata": {},
   "outputs": [],
   "source": [
    "df[\"Profit/Loss\"]=df[\"ROI\"].apply(lambda x:\"Profit\" if x > 0 else \"Loss\")"
   ]
  },
  {
   "cell_type": "markdown",
   "metadata": {},
   "source": [
    "# PART THREE\n",
    "## DEFINE HEATMAP AND SUMMARY FUNCTIONS"
   ]
  },
  {
   "cell_type": "code",
   "execution_count": null,
   "metadata": {},
   "outputs": [],
   "source": [
    "def HeatMap(df,indexes,columns,value=None, axis=None):\n",
    "    Heatmap=pd.pivot_table(df, values=value,index=indexes,\n",
    "                           columns=columns).round(3)\n",
    "    Heatmap=Heatmap.style.background_gradient(cmap=sns.light_palette(\"green\",\n",
    "                                                                    as_cmap=True), axis=axis)\n",
    "    return Heatmap"
   ]
  },
  {
   "cell_type": "code",
   "execution_count": null,
   "metadata": {},
   "outputs": [],
   "source": [
    "yearRegion=HeatMap(df,[\"year\"],[\"Region\"],value=\"ROI\",axis=1)\n",
    "yearProperty=HeatMap(df,[\"year\"],[\"Property Type\"],value=\"ROI\",axis=1)\n",
    "yearMonth=HeatMap(df,[\"year\"],[\"month\"],value=\"ROI\",axis=1)\n",
    "cityYear=HeatMap(df,[\"City\"],[\"year\"],value=\"ROI\",axis=0)"
   ]
  },
  {
   "cell_type": "code",
   "execution_count": null,
   "metadata": {},
   "outputs": [],
   "source": [
    "def GetSummary(subtype=None):\n",
    "    d1={}\n",
    "    for year in df[\"year\"].unique():\n",
    "        for region in df[\"Region\"].unique():\n",
    "            DF = df[(df[\"year\"]==year) & (df[\"Region\"]==region)]\n",
    "            if subtype==\"A\":\n",
    "                DF=DF.groupby([\"quarter\",\"Profit/Loss\"])[\"Profit/Loss\"].count()\n",
    "                DF=DF.unstack().fillna(0).astype(int)\n",
    "                DF=DF[[\"Profit\",\"Loss\"]]\n",
    "            elif subtype==\"B\":\n",
    "                DF=pd.pivot_table(DF, values=\"ROI\",\n",
    "                                 index=[\"quarter\"],\n",
    "                                 columns=\"Region\").round(3)\n",
    "            elif subtype==\"C\":\n",
    "                DF=pd.pivot_table(DF, values=\"ROI\",\n",
    "                                 index=[\"month\"],\n",
    "                                 columns=\"Region\").round(3)\n",
    "                DF.index=DF.index.map(lambda x:calendar.month_abbr[x])\n",
    "            elif subtype==\"D\":\n",
    "                DF=DF.groupby([\"Property Type\"])[\"ROI\"].mean().to_frame().round(3)\n",
    "                \n",
    "            d1[f\"{year}-{region}\"]=DF\n",
    "    return d1"
   ]
  },
  {
   "cell_type": "markdown",
   "metadata": {},
   "source": [
    "# PART FOUR\n",
    "## DEFINE FUNCTIONS TO INSERT TABLES AND CHARTS"
   ]
  },
  {
   "cell_type": "code",
   "execution_count": null,
   "metadata": {},
   "outputs": [],
   "source": [
    "def InsertTable(dictionary,writer,title):\n",
    "    row=0\n",
    "    for i,x in enumerate(dictionary):\n",
    "        DF=dictionary[x]\n",
    "        sLen=len(DF[DF.columns[0]])\n",
    "        DF.to_excel(writer,sheet_name=title,\n",
    "                   startrow=row,\n",
    "                   startcol=0)\n",
    "        row=(row+sLen+2)"
   ]
  },
  {
   "cell_type": "code",
   "execution_count": null,
   "metadata": {},
   "outputs": [],
   "source": [
    "# https://pandas-xlsxwriter-charts.readthedocs.io/introduction.html\n",
    "def InsertCharts(dictionary,worksheet,workbook,sheet_name):\n",
    "    chart_list=[]\n",
    "    row=1\n",
    "    columns=0\n",
    "    for i,x in enumerate(dictionary):\n",
    "        title=f\"{x}\"\n",
    "        DF=dictionary[x]\n",
    "        sLen=len(DF.iloc[0])+1\n",
    "        rLen=len(DF.index)\n",
    "        chart=workbook.add_chart({\"type\":\"column\"})\n",
    "        for col_num in range(1,sLen):\n",
    "            chart.add_series({\"name\":[sheet_name,columns,col_num],\n",
    "                             \"categories\": [sheet_name,row,0,(rLen+row-1),0],\n",
    "                             \"values\": [sheet_name,row,col_num,(rLen+row-1), col_num],\n",
    "                             \"overlap\": -5,\n",
    "                             \"data_labels\": {\"value\":True,\n",
    "                                             \"font\":{\"name\":\"Calibri\",\"bold\":True,\"size\":10}}\n",
    "                             })\n",
    "        chart.set_x_axis({\"name\":\"\",\"major_gridlines\":{\"visible\":False}})\n",
    "        chart.set_y_axis({\"name\":\"\",\"major_gridlines\":{\"visible\":False}})\n",
    "        chart.set_title({\"name\":title})\n",
    "        chart.set_legend({\"position\":\"bottom\"})\n",
    "        \n",
    "        chart.set_size({\"width\":700,\"height\":477.252})\n",
    "        chart_list.append(chart)\n",
    "        row=row+rLen+2\n",
    "        columns=columns+rLen+2\n",
    "        \n",
    "        rowNum=1\n",
    "        count=0\n",
    "        \n",
    "        cellDict={1:\"A\",2:\"L\",3:\"W\",\n",
    "                 4:\"AH\",5:\"AS\",6:\"BD\",7:\"BO\"}\n",
    "        \n",
    "        for i,x in enumerate(chart_list):\n",
    "            count += 1\n",
    "            worksheet.insert_chart(cellDict[count]+str(rowNum), chart_list[i],\n",
    "                                   {\"x_scale\":1,\"y_scale\":1})\n",
    "            if count == 7:\n",
    "                count=0\n",
    "                rowNum += 24"
   ]
  },
  {
   "cell_type": "markdown",
   "metadata": {},
   "source": [
    "# PART FIVE\n",
    "## DEFINE FUNCTIONS TO SAVE DATA TO EXCEL FILE"
   ]
  },
  {
   "cell_type": "code",
   "execution_count": null,
   "metadata": {},
   "outputs": [],
   "source": [
    "def SaveData(dList,savePath):\n",
    "    with pd.ExcelWriter(f\"{savePath}\\ROI Summary.xlsx\") as writer:\n",
    "        tablist=[\"Region\",\"Property\",\"Month\",\"City\"]\n",
    "        hList=[yearRegion,yearProperty,yearMonth,cityYear]\n",
    "        for a,b in zip(hList,tablist):\n",
    "            a.to_excel(writer, sheet_name=b)\n",
    "            \n",
    "        workbook=writer.book\n",
    "        DB_List=[]\n",
    "        DB_List.append(workbook.add_worksheet(\"Profit_Loss by quarter\"))\n",
    "        DB_List.append(workbook.add_worksheet(\"ROI by quarter\"))\n",
    "        DB_List.append(workbook.add_worksheet(\"ROI by month\"))\n",
    "        DB_List.append(workbook.add_worksheet(\"ROI by property type\"))\n",
    "        for x in DB_List:\n",
    "            x.set_zoom(36)\n",
    "            \n",
    "        RefList=[\"A\",\"B\",\"C\",\"D\"]\n",
    "        \n",
    "        for a,b,c in zip(dList,DB_List,RefList):\n",
    "            InsertTable(a,writer,c)\n",
    "            InsertCharts(a,b,workbook,c)"
   ]
  },
  {
   "cell_type": "markdown",
   "metadata": {},
   "source": [
    "# PART SIX\n",
    "## DEFINE FUNCTION TO SAVE RECORDS TO JSON FILES"
   ]
  },
  {
   "cell_type": "code",
   "execution_count": null,
   "metadata": {},
   "outputs": [],
   "source": [
    "exportcolumns=['City', 'Region', 'State', 'Investment',\n",
    "               'Revenue', 'Date', 'Property Type', 'month',\n",
    "               'quarter', 'Net', 'ROI', 'Profit/Loss']\n",
    "totalRows=0\n",
    "year={}\n",
    "for x in df[\"year\"].unique():\n",
    "    manager={}\n",
    "    for y in df[\"Regional Manager\"].unique():\n",
    "        rep={}\n",
    "        for z in df[\"City Rep\"].unique():\n",
    "            DF = df[(df[\"year\"]==x) & (df[\"Regional Manager\"]==y) & (df[\"City Rep\"]==z)]\n",
    "            DF[\"Date\"]=DF[\"Date\"].astype(str)\n",
    "            if DF.shape[0]>0:\n",
    "                totalRows+=DF.shape[0]\n",
    "                DF=DF[exportcolumns]\n",
    "                rep[z]=DF.to_dict(orient=\"records\")\n",
    "                manager[y]={\"City Reps\":rep}\n",
    "                year[str(x)]=manager"
   ]
  },
  {
   "cell_type": "code",
   "execution_count": null,
   "metadata": {},
   "outputs": [],
   "source": [
    "DF=pd.DataFrame(year.items(), columns=[\"Year\",\"Regional Manager\"])"
   ]
  },
  {
   "cell_type": "code",
   "execution_count": null,
   "metadata": {},
   "outputs": [],
   "source": [
    "def SaveToJson(df,destination):\n",
    "    for x in df[\"Year\"].unique():\n",
    "        json=df[df[\"Year\"]==x]\n",
    "        json=json.to_json(orient=\"records\")\n",
    "        with open (f\"{destination}\\Real Estate Sales Data - {x}.json\", \"w\") as f:\n",
    "            f.write(json)"
   ]
  },
  {
   "cell_type": "markdown",
   "metadata": {},
   "source": [
    "# PART SEVEN"
   ]
  },
  {
   "cell_type": "markdown",
   "metadata": {},
   "source": [
    "## CALL FUNCTIONS TO SAVE CHARTS/TABLES TO FILE"
   ]
  },
  {
   "cell_type": "code",
   "execution_count": null,
   "metadata": {},
   "outputs": [],
   "source": [
    "dList=[GetSummary(subtype=\"A\"),GetSummary(subtype=\"B\"),\n",
    "      GetSummary(subtype=\"C\"),GetSummary(subtype=\"D\")]\n",
    "SaveData(dList,Dir(\"Output-ROI\"))"
   ]
  },
  {
   "cell_type": "markdown",
   "metadata": {},
   "source": [
    "## CALL FUNCTION TO SAVE RECORDS TO JSON FILES"
   ]
  },
  {
   "cell_type": "code",
   "execution_count": null,
   "metadata": {},
   "outputs": [],
   "source": [
    "SaveToJson(DF,Dir(\"Output-Json\"))"
   ]
  },
  {
   "cell_type": "code",
   "execution_count": null,
   "metadata": {},
   "outputs": [],
   "source": [
    "End=datetime.datetime.now()"
   ]
  },
  {
   "cell_type": "code",
   "execution_count": null,
   "metadata": {},
   "outputs": [],
   "source": [
    "print(f\"{End-Start}\")"
   ]
  },
  {
   "cell_type": "code",
   "execution_count": null,
   "metadata": {},
   "outputs": [],
   "source": [
    "print(totalRows)\n",
    "df.shape[0]"
   ]
  }
 ],
 "metadata": {
  "kernelspec": {
   "display_name": "Python 3",
   "language": "python",
   "name": "python3"
  },
  "language_info": {
   "codemirror_mode": {
    "name": "ipython",
    "version": 3
   },
   "file_extension": ".py",
   "mimetype": "text/x-python",
   "name": "python",
   "nbconvert_exporter": "python",
   "pygments_lexer": "ipython3",
   "version": "3.7.4"
  }
 },
 "nbformat": 4,
 "nbformat_minor": 2
}
